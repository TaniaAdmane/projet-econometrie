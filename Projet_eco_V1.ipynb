{
  "nbformat": 4,
  "nbformat_minor": 0,
  "metadata": {
    "colab": {
      "provenance": [],
      "authorship_tag": "ABX9TyOc0vgPu7jPh3yd/0jn0pC0",
      "include_colab_link": true
    },
    "kernelspec": {
      "name": "ir",
      "display_name": "R"
    },
    "language_info": {
      "name": "R"
    }
  },
  "cells": [
    {
      "cell_type": "markdown",
      "metadata": {
        "id": "view-in-github",
        "colab_type": "text"
      },
      "source": [
        "<a href=\"https://colab.research.google.com/github/TaniaAdmane/projet-econometrie/blob/main/Projet_eco_V1.ipynb\" target=\"_parent\"><img src=\"https://colab.research.google.com/assets/colab-badge.svg\" alt=\"Open In Colab\"/></a>"
      ]
    },
    {
      "cell_type": "markdown",
      "source": [
        "# I/ Installation des packages et importaton des données"
      ],
      "metadata": {
        "id": "LLnOB6UJvlrR"
      }
    },
    {
      "cell_type": "markdown",
      "source": [
        "Instalation des packages"
      ],
      "metadata": {
        "id": "q8flzo8zpECN"
      }
    },
    {
      "cell_type": "code",
      "execution_count": 7,
      "metadata": {
        "id": "bqIlvDhngO_0",
        "colab": {
          "base_uri": "https://localhost:8080/"
        },
        "outputId": "9a186ba3-c572-448e-8a44-91d161a0d746"
      },
      "outputs": [
        {
          "output_type": "stream",
          "name": "stderr",
          "text": [
            "Installing package into ‘/usr/local/lib/R/site-library’\n",
            "(as ‘lib’ is unspecified)\n",
            "\n",
            "Installing package into ‘/usr/local/lib/R/site-library’\n",
            "(as ‘lib’ is unspecified)\n",
            "\n",
            "Installing package into ‘/usr/local/lib/R/site-library’\n",
            "(as ‘lib’ is unspecified)\n",
            "\n",
            "Installing package into ‘/usr/local/lib/R/site-library’\n",
            "(as ‘lib’ is unspecified)\n",
            "\n",
            "Installing package into ‘/usr/local/lib/R/site-library’\n",
            "(as ‘lib’ is unspecified)\n",
            "\n",
            "Installing package into ‘/usr/local/lib/R/site-library’\n",
            "(as ‘lib’ is unspecified)\n",
            "\n"
          ]
        }
      ],
      "source": [
        "install.packages(\"googledrive\")\n",
        "install.packages(\"lubridate\")\n",
        "install.packages(\"TT\")\n",
        "install.packages(\"quantmod\")\n",
        "install.packages('yahoofinancer')\n",
        "install.packages('ggplot2')"
      ]
    },
    {
      "cell_type": "markdown",
      "source": [
        "- La base de donnée se trouve sur github et a été installée à la main\n",
        "- On place les données dans un data frame\n",
        "\n"
      ],
      "metadata": {
        "id": "qyy9jzFOp4lk"
      }
    },
    {
      "cell_type": "code",
      "source": [
        "library(googledrive)\n",
        "Base <- read_csv2(\"CORE_DATA.csv\")\n"
      ],
      "metadata": {
        "id": "I9Bv5ybyu1H0",
        "outputId": "ba8ecf75-9872-46c4-eaac-a011570fb615",
        "colab": {
          "base_uri": "https://localhost:8080/",
          "height": 107
        }
      },
      "execution_count": 8,
      "outputs": [
        {
          "output_type": "error",
          "ename": "ERROR",
          "evalue": "ignored",
          "traceback": [
            "Error in read_csv2(\"CORE_DATA.csv\"): could not find function \"read_csv2\"\nTraceback:\n"
          ]
        }
      ]
    }
  ]
}